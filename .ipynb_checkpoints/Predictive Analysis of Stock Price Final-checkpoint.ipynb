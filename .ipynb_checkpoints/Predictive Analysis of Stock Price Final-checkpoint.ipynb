{
 "cells": [
  {
   "cell_type": "markdown",
   "metadata": {},
   "source": [
    "## Predictive Analysis of Market Trends to Predict Stock Price   "
   ]
  },
  {
   "cell_type": "markdown",
   "metadata": {},
   "source": [
    "## Pre Processing Of Data"
   ]
  },
  {
   "cell_type": "code",
   "execution_count": 1,
   "metadata": {},
   "outputs": [],
   "source": [
    "%matplotlib inline\n",
    "import pandas as pd\n",
    "import matplotlib.pyplot as plt\n",
    "import numpy as np\n",
    "from sklearn.preprocessing import Normalizer\n",
    "from sklearn.metrics import r2_score,mean_absolute_error,mean_squared_error,median_absolute_error"
   ]
  },
  {
   "cell_type": "code",
   "execution_count": 2,
   "metadata": {},
   "outputs": [],
   "source": [
    "def splitDate(df):\n",
    "    X_date = []\n",
    "    for d in df.index:\n",
    "        d = str(d).split(' ')[0]\n",
    "        x = []\n",
    "        x.append(int(d.split('-')[0]))\n",
    "        x.append(int(d.split('-')[1]))\n",
    "        x.append(int(d.split('-')[2]))\n",
    "        X_date.append(x)\n",
    "    \n",
    "    X_date = np.array(X_date,dtype=np.int64) \n",
    "    return [X_date[:,:1],X_date[:,1:2],X_date[:,2:3]]"
   ]
  },
  {
   "cell_type": "code",
   "execution_count": 24,
   "metadata": {},
   "outputs": [],
   "source": [
    "def calculateError(predicted,actual):\n",
    "    n = len(predicted)\n",
    "    s = 0\n",
    "    for i in range(n):\n",
    "        d = (((predicted[i]-actual[i])/actual[i])*100)\n",
    "        s += d\n",
    "    return s/float(n)"
   ]
  },
  {
   "cell_type": "code",
   "execution_count": 25,
   "metadata": {},
   "outputs": [],
   "source": [
    "#Function to read data from csv file and create a dataframe\n",
    "def getDataSplitInTrainTest(fname,ftrends):\n",
    "    #Read into dataframe\n",
    "    df = pd.read_csv(fname,index_col='Date',\n",
    "                     parse_dates=True,na_values=['nan'])\n",
    "    \n",
    "       \n",
    "    \n",
    "    df['Date'] = pd.to_datetime(df.index).astype(np.int64)\n",
    "    df['Year'],df['Month'],df['Day'] = splitDate(df)\n",
    "    \n",
    "    df_trends = pd.read_csv(ftrends,index_col='Date',parse_dates=True)\n",
    "        \n",
    "    #Stat and End Date for train and test data respectivly\n",
    "    #Train Data\n",
    "    train_start_date = '2016-10-01'\n",
    "    train_end_date = '2016-12-01'\n",
    "    train_dates = pd.date_range(train_start_date,train_end_date)\n",
    "    \n",
    "    #Test Data\n",
    "    test_start_date = '2016-12-15'    \n",
    "    test_end_date = '2016-12-30'\n",
    "    test_dates = pd.date_range(test_start_date,test_end_date)\n",
    "    \n",
    "    #Our dataframe wil have date as index and one column as open price\n",
    "    df_train = pd.DataFrame(index=train_dates) \n",
    "    df_test = pd.DataFrame(index=test_dates) \n",
    "\n",
    "    #Join\n",
    "    df_train = df_train.join(df)\n",
    "    df_test = df_test.join(df)\n",
    "    \n",
    "    #drop nan\n",
    "    df_train = df_train.dropna()\n",
    "    df_test = df_test.dropna()\n",
    "    \n",
    "    #For trends value\n",
    "    df_train1 = df_train.join(df_trends).dropna()\n",
    "    df_test1 = df_test.join(df_trends).dropna()\n",
    "    \n",
    "    #Return df_train and df_train as a tuple\n",
    "    return (df_train1,df_test1)\n",
    "    \n",
    "#Calling function to get processed data\n",
    "df_train,df_test = getDataSplitInTrainTest('AAPL.csv','TRENDS.csv')"
   ]
  },
  {
   "cell_type": "markdown",
   "metadata": {},
   "source": [
    "## Data Visualization"
   ]
  },
  {
   "cell_type": "markdown",
   "metadata": {},
   "source": [
    "#### Train Data"
   ]
  },
  {
   "cell_type": "code",
   "execution_count": 26,
   "metadata": {},
   "outputs": [
    {
     "data": {
      "text/html": [
       "<div>\n",
       "<style scoped>\n",
       "    .dataframe tbody tr th:only-of-type {\n",
       "        vertical-align: middle;\n",
       "    }\n",
       "\n",
       "    .dataframe tbody tr th {\n",
       "        vertical-align: top;\n",
       "    }\n",
       "\n",
       "    .dataframe thead th {\n",
       "        text-align: right;\n",
       "    }\n",
       "</style>\n",
       "<table border=\"1\" class=\"dataframe\">\n",
       "  <thead>\n",
       "    <tr style=\"text-align: right;\">\n",
       "      <th></th>\n",
       "      <th>Open</th>\n",
       "      <th>High</th>\n",
       "      <th>Low</th>\n",
       "      <th>Close</th>\n",
       "      <th>Adj Close</th>\n",
       "      <th>Volume</th>\n",
       "      <th>Date</th>\n",
       "      <th>Year</th>\n",
       "      <th>Month</th>\n",
       "      <th>Day</th>\n",
       "      <th>Trend</th>\n",
       "    </tr>\n",
       "  </thead>\n",
       "  <tbody>\n",
       "    <tr>\n",
       "      <th>2016-10-03</th>\n",
       "      <td>112.709999</td>\n",
       "      <td>113.050003</td>\n",
       "      <td>112.279999</td>\n",
       "      <td>112.519997</td>\n",
       "      <td>110.569603</td>\n",
       "      <td>21701800.0</td>\n",
       "      <td>1.475453e+18</td>\n",
       "      <td>2016.0</td>\n",
       "      <td>10.0</td>\n",
       "      <td>3.0</td>\n",
       "      <td>66</td>\n",
       "    </tr>\n",
       "    <tr>\n",
       "      <th>2016-10-04</th>\n",
       "      <td>113.059998</td>\n",
       "      <td>114.309998</td>\n",
       "      <td>112.629997</td>\n",
       "      <td>113.000000</td>\n",
       "      <td>111.041290</td>\n",
       "      <td>29736800.0</td>\n",
       "      <td>1.475539e+18</td>\n",
       "      <td>2016.0</td>\n",
       "      <td>10.0</td>\n",
       "      <td>4.0</td>\n",
       "      <td>66</td>\n",
       "    </tr>\n",
       "    <tr>\n",
       "      <th>2016-10-05</th>\n",
       "      <td>113.400002</td>\n",
       "      <td>113.660004</td>\n",
       "      <td>112.690002</td>\n",
       "      <td>113.050003</td>\n",
       "      <td>111.090431</td>\n",
       "      <td>21453100.0</td>\n",
       "      <td>1.475626e+18</td>\n",
       "      <td>2016.0</td>\n",
       "      <td>10.0</td>\n",
       "      <td>5.0</td>\n",
       "      <td>66</td>\n",
       "    </tr>\n",
       "    <tr>\n",
       "      <th>2016-10-06</th>\n",
       "      <td>113.699997</td>\n",
       "      <td>114.339996</td>\n",
       "      <td>113.129997</td>\n",
       "      <td>113.889999</td>\n",
       "      <td>111.915863</td>\n",
       "      <td>28779300.0</td>\n",
       "      <td>1.475712e+18</td>\n",
       "      <td>2016.0</td>\n",
       "      <td>10.0</td>\n",
       "      <td>6.0</td>\n",
       "      <td>66</td>\n",
       "    </tr>\n",
       "    <tr>\n",
       "      <th>2016-10-07</th>\n",
       "      <td>114.309998</td>\n",
       "      <td>114.559998</td>\n",
       "      <td>113.510002</td>\n",
       "      <td>114.059998</td>\n",
       "      <td>112.082916</td>\n",
       "      <td>24358400.0</td>\n",
       "      <td>1.475798e+18</td>\n",
       "      <td>2016.0</td>\n",
       "      <td>10.0</td>\n",
       "      <td>7.0</td>\n",
       "      <td>66</td>\n",
       "    </tr>\n",
       "  </tbody>\n",
       "</table>\n",
       "</div>"
      ],
      "text/plain": [
       "                  Open        High         Low       Close   Adj Close  \\\n",
       "2016-10-03  112.709999  113.050003  112.279999  112.519997  110.569603   \n",
       "2016-10-04  113.059998  114.309998  112.629997  113.000000  111.041290   \n",
       "2016-10-05  113.400002  113.660004  112.690002  113.050003  111.090431   \n",
       "2016-10-06  113.699997  114.339996  113.129997  113.889999  111.915863   \n",
       "2016-10-07  114.309998  114.559998  113.510002  114.059998  112.082916   \n",
       "\n",
       "                Volume          Date    Year  Month  Day  Trend  \n",
       "2016-10-03  21701800.0  1.475453e+18  2016.0   10.0  3.0     66  \n",
       "2016-10-04  29736800.0  1.475539e+18  2016.0   10.0  4.0     66  \n",
       "2016-10-05  21453100.0  1.475626e+18  2016.0   10.0  5.0     66  \n",
       "2016-10-06  28779300.0  1.475712e+18  2016.0   10.0  6.0     66  \n",
       "2016-10-07  24358400.0  1.475798e+18  2016.0   10.0  7.0     66  "
      ]
     },
     "execution_count": 26,
     "metadata": {},
     "output_type": "execute_result"
    }
   ],
   "source": [
    "#First Five samples\n",
    "df_train.head()"
   ]
  },
  {
   "cell_type": "markdown",
   "metadata": {},
   "source": [
    "### Test Data"
   ]
  },
  {
   "cell_type": "code",
   "execution_count": 27,
   "metadata": {},
   "outputs": [
    {
     "data": {
      "text/html": [
       "<div>\n",
       "<style scoped>\n",
       "    .dataframe tbody tr th:only-of-type {\n",
       "        vertical-align: middle;\n",
       "    }\n",
       "\n",
       "    .dataframe tbody tr th {\n",
       "        vertical-align: top;\n",
       "    }\n",
       "\n",
       "    .dataframe thead th {\n",
       "        text-align: right;\n",
       "    }\n",
       "</style>\n",
       "<table border=\"1\" class=\"dataframe\">\n",
       "  <thead>\n",
       "    <tr style=\"text-align: right;\">\n",
       "      <th></th>\n",
       "      <th>Year</th>\n",
       "      <th>Month</th>\n",
       "      <th>Day</th>\n",
       "      <th>Open</th>\n",
       "    </tr>\n",
       "  </thead>\n",
       "  <tbody>\n",
       "    <tr>\n",
       "      <th>2016-12-15</th>\n",
       "      <td>2016.0</td>\n",
       "      <td>12.0</td>\n",
       "      <td>15.0</td>\n",
       "      <td>115.379997</td>\n",
       "    </tr>\n",
       "    <tr>\n",
       "      <th>2016-12-16</th>\n",
       "      <td>2016.0</td>\n",
       "      <td>12.0</td>\n",
       "      <td>16.0</td>\n",
       "      <td>116.470001</td>\n",
       "    </tr>\n",
       "    <tr>\n",
       "      <th>2016-12-19</th>\n",
       "      <td>2016.0</td>\n",
       "      <td>12.0</td>\n",
       "      <td>19.0</td>\n",
       "      <td>115.800003</td>\n",
       "    </tr>\n",
       "    <tr>\n",
       "      <th>2016-12-20</th>\n",
       "      <td>2016.0</td>\n",
       "      <td>12.0</td>\n",
       "      <td>20.0</td>\n",
       "      <td>116.739998</td>\n",
       "    </tr>\n",
       "    <tr>\n",
       "      <th>2016-12-21</th>\n",
       "      <td>2016.0</td>\n",
       "      <td>12.0</td>\n",
       "      <td>21.0</td>\n",
       "      <td>116.800003</td>\n",
       "    </tr>\n",
       "    <tr>\n",
       "      <th>2016-12-22</th>\n",
       "      <td>2016.0</td>\n",
       "      <td>12.0</td>\n",
       "      <td>22.0</td>\n",
       "      <td>116.349998</td>\n",
       "    </tr>\n",
       "    <tr>\n",
       "      <th>2016-12-23</th>\n",
       "      <td>2016.0</td>\n",
       "      <td>12.0</td>\n",
       "      <td>23.0</td>\n",
       "      <td>115.589996</td>\n",
       "    </tr>\n",
       "    <tr>\n",
       "      <th>2016-12-27</th>\n",
       "      <td>2016.0</td>\n",
       "      <td>12.0</td>\n",
       "      <td>27.0</td>\n",
       "      <td>116.519997</td>\n",
       "    </tr>\n",
       "    <tr>\n",
       "      <th>2016-12-28</th>\n",
       "      <td>2016.0</td>\n",
       "      <td>12.0</td>\n",
       "      <td>28.0</td>\n",
       "      <td>117.519997</td>\n",
       "    </tr>\n",
       "    <tr>\n",
       "      <th>2016-12-29</th>\n",
       "      <td>2016.0</td>\n",
       "      <td>12.0</td>\n",
       "      <td>29.0</td>\n",
       "      <td>116.449997</td>\n",
       "    </tr>\n",
       "    <tr>\n",
       "      <th>2016-12-30</th>\n",
       "      <td>2016.0</td>\n",
       "      <td>12.0</td>\n",
       "      <td>30.0</td>\n",
       "      <td>116.650002</td>\n",
       "    </tr>\n",
       "  </tbody>\n",
       "</table>\n",
       "</div>"
      ],
      "text/plain": [
       "              Year  Month   Day        Open\n",
       "2016-12-15  2016.0   12.0  15.0  115.379997\n",
       "2016-12-16  2016.0   12.0  16.0  116.470001\n",
       "2016-12-19  2016.0   12.0  19.0  115.800003\n",
       "2016-12-20  2016.0   12.0  20.0  116.739998\n",
       "2016-12-21  2016.0   12.0  21.0  116.800003\n",
       "2016-12-22  2016.0   12.0  22.0  116.349998\n",
       "2016-12-23  2016.0   12.0  23.0  115.589996\n",
       "2016-12-27  2016.0   12.0  27.0  116.519997\n",
       "2016-12-28  2016.0   12.0  28.0  117.519997\n",
       "2016-12-29  2016.0   12.0  29.0  116.449997\n",
       "2016-12-30  2016.0   12.0  30.0  116.650002"
      ]
     },
     "execution_count": 27,
     "metadata": {},
     "output_type": "execute_result"
    }
   ],
   "source": [
    "#First Five samples\n",
    "df_test[['Year','Month','Day','Open']]"
   ]
  },
  {
   "cell_type": "markdown",
   "metadata": {},
   "source": [
    "### Plotting Graph"
   ]
  },
  {
   "cell_type": "code",
   "execution_count": 28,
   "metadata": {},
   "outputs": [],
   "source": [
    "def plotDataframe(df,title):\n",
    "    ax = df.plot(title=title,fontsize=10,ylim=(105,125))\n",
    "    ax.set_xlabel(\"Date\")\n",
    "    ax.set_ylabel(\"Price\")\n",
    "    plt.show()   "
   ]
  },
  {
   "cell_type": "code",
   "execution_count": 29,
   "metadata": {},
   "outputs": [
    {
     "data": {
      "image/png": "[encoded data removed]",
      "text/plain": [
       "<matplotlib.figure.Figure at 0x7fc099d79a20>"
      ]
     },
     "metadata": {},
     "output_type": "display_data"
    }
   ],
   "source": [
    "#Plot\n",
    "plotDataframe(df_train['Open'],\"Training Data\")"
   ]
  },
  {
   "cell_type": "markdown",
   "metadata": {},
   "source": [
    "## Splitting dataframe into features and target (X,y)"
   ]
  },
  {
   "cell_type": "code",
   "execution_count": 30,
   "metadata": {},
   "outputs": [],
   "source": [
    "#Train\n",
    "#X_train = np.asarray([pd.to_datetime(df_train.index).astype(np.int64),df_train['Trend']])\n",
    "X_train = df_train[['Year','Month','Day','Trend']]\n",
    "y_train = df_train['Open']\n",
    "\n",
    "#test\n",
    "#X_test = np.array([pd.to_datetime(df_test.index).astype(np.int64),df_test['Trend']])\n",
    "X_test = df_test[['Year','Month','Day','Trend']]\n",
    "y_test = df_test['Open']\n",
    "\n",
    "from sklearn.preprocessing import StandardScaler,MinMaxScaler\n",
    "scaler = MinMaxScaler()\n",
    "X_train = scaler.fit_transform(X_train)\n",
    "X_test = scaler.fit_transform(X_test)"
   ]
  },
  {
   "cell_type": "markdown",
   "metadata": {},
   "source": [
    "# ML Algorithm"
   ]
  },
  {
   "cell_type": "markdown",
   "metadata": {},
   "source": [
    "### Linear Regression"
   ]
  },
  {
   "cell_type": "code",
   "execution_count": 31,
   "metadata": {},
   "outputs": [
    {
     "name": "stdout",
     "output_type": "stream",
     "text": [
      "-0.3444568599536066\n",
      "-1.255596115915109\n",
      "-0.31605478854531344\n",
      "-1.0972596973135484\n",
      "-1.1266270624840569\n",
      "-0.7226901171598781\n",
      "-0.04827617689619061\n",
      "-0.5088388764816394\n",
      "-1.3341163867565313\n",
      "-0.40601807123645217\n",
      "-0.5553086281608935\n",
      "sum : -7.715242780903219\n",
      "Avg : -0.7013857073548381\n",
      "% Change : -0.7013857073548381\n"
     ]
    },
    {
     "data": {
      "image/png": "[encoded data removed]",
      "text/plain": [
       "<matplotlib.figure.Figure at 0x7fc099c8bb38>"
      ]
     },
     "metadata": {},
     "output_type": "display_data"
    }
   ],
   "source": [
    "from sklearn.linear_model import LinearRegression,Ridge\n",
    "from sklearn.metrics import explained_variance_score\n",
    "model_linear_reg = LinearRegression() \n",
    "model_linear_reg.fit(X_train,y_train)\n",
    "df_lr = pd.DataFrame(index=df_test.index)\n",
    "df_lr['Actual'] = y_test\n",
    "df_lr['Predicted'] = model_linear_reg.predict(X_test)\n",
    "print(\"% Change : \"+str(calculateError(df_lr['Predicted'],df_lr['Actual'])))\n",
    "plotDataframe(df_lr,\"Linear Regression\")"
   ]
  },
  {
   "cell_type": "code",
   "execution_count": 11,
   "metadata": {},
   "outputs": [
    {
     "data": {
      "text/html": [
       "<div>\n",
       "<style scoped>\n",
       "    .dataframe tbody tr th:only-of-type {\n",
       "        vertical-align: middle;\n",
       "    }\n",
       "\n",
       "    .dataframe tbody tr th {\n",
       "        vertical-align: top;\n",
       "    }\n",
       "\n",
       "    .dataframe thead th {\n",
       "        text-align: right;\n",
       "    }\n",
       "</style>\n",
       "<table border=\"1\" class=\"dataframe\">\n",
       "  <thead>\n",
       "    <tr style=\"text-align: right;\">\n",
       "      <th></th>\n",
       "      <th>Actual</th>\n",
       "      <th>Predicted</th>\n",
       "    </tr>\n",
       "  </thead>\n",
       "  <tbody>\n",
       "    <tr>\n",
       "      <th>2016-12-15</th>\n",
       "      <td>115.379997</td>\n",
       "      <td>114.982563</td>\n",
       "    </tr>\n",
       "    <tr>\n",
       "      <th>2016-12-16</th>\n",
       "      <td>116.470001</td>\n",
       "      <td>115.007608</td>\n",
       "    </tr>\n",
       "    <tr>\n",
       "      <th>2016-12-19</th>\n",
       "      <td>115.800003</td>\n",
       "      <td>115.434012</td>\n",
       "    </tr>\n",
       "    <tr>\n",
       "      <th>2016-12-20</th>\n",
       "      <td>116.739998</td>\n",
       "      <td>115.459057</td>\n",
       "    </tr>\n",
       "    <tr>\n",
       "      <th>2016-12-21</th>\n",
       "      <td>116.800003</td>\n",
       "      <td>115.484103</td>\n",
       "    </tr>\n",
       "    <tr>\n",
       "      <th>2016-12-22</th>\n",
       "      <td>116.349998</td>\n",
       "      <td>115.509148</td>\n",
       "    </tr>\n",
       "    <tr>\n",
       "      <th>2016-12-23</th>\n",
       "      <td>115.589996</td>\n",
       "      <td>115.534194</td>\n",
       "    </tr>\n",
       "    <tr>\n",
       "      <th>2016-12-27</th>\n",
       "      <td>116.519997</td>\n",
       "      <td>115.927098</td>\n",
       "    </tr>\n",
       "    <tr>\n",
       "      <th>2016-12-28</th>\n",
       "      <td>117.519997</td>\n",
       "      <td>115.952143</td>\n",
       "    </tr>\n",
       "    <tr>\n",
       "      <th>2016-12-29</th>\n",
       "      <td>116.449997</td>\n",
       "      <td>115.977189</td>\n",
       "    </tr>\n",
       "  </tbody>\n",
       "</table>\n",
       "</div>"
      ],
      "text/plain": [
       "                Actual   Predicted\n",
       "2016-12-15  115.379997  114.982563\n",
       "2016-12-16  116.470001  115.007608\n",
       "2016-12-19  115.800003  115.434012\n",
       "2016-12-20  116.739998  115.459057\n",
       "2016-12-21  116.800003  115.484103\n",
       "2016-12-22  116.349998  115.509148\n",
       "2016-12-23  115.589996  115.534194\n",
       "2016-12-27  116.519997  115.927098\n",
       "2016-12-28  117.519997  115.952143\n",
       "2016-12-29  116.449997  115.977189"
      ]
     },
     "execution_count": 11,
     "metadata": {},
     "output_type": "execute_result"
    }
   ],
   "source": [
    "df_lr[:10]"
   ]
  },
  {
   "cell_type": "markdown",
   "metadata": {},
   "source": [
    "## SGD Regrssion"
   ]
  },
  {
   "cell_type": "code",
   "execution_count": 12,
   "metadata": {},
   "outputs": [
    {
     "name": "stdout",
     "output_type": "stream",
     "text": [
      "% Change : -1.8024250265984\n"
     ]
    },
    {
     "data": {
      "image/png": "[encoded data removed]",
      "text/plain": [
       "<matplotlib.figure.Figure at 0x7fb64262ca20>"
      ]
     },
     "metadata": {},
     "output_type": "display_data"
    }
   ],
   "source": [
    "from sklearn.linear_model import SGDRegressor\n",
    "model_dt = SGDRegressor(max_iter=1000,alpha=0.0001)\n",
    "model_dt.fit(X_train,y_train)\n",
    "df_sgd = pd.DataFrame(index=df_test.index)\n",
    "df_sgd['Actual'] = y_test\n",
    "df_sgd['Predicted'] = model_dt.predict(X_test)\n",
    "print(\"% Change : \"+str(calculateError(df_sgd['Predicted'],df_sgd['Actual'])))\n",
    "plotDataframe(df_sgd,\"SGD Regressor\")"
   ]
  },
  {
   "cell_type": "code",
   "execution_count": 13,
   "metadata": {},
   "outputs": [
    {
     "data": {
      "text/html": [
       "<div>\n",
       "<style scoped>\n",
       "    .dataframe tbody tr th:only-of-type {\n",
       "        vertical-align: middle;\n",
       "    }\n",
       "\n",
       "    .dataframe tbody tr th {\n",
       "        vertical-align: top;\n",
       "    }\n",
       "\n",
       "    .dataframe thead th {\n",
       "        text-align: right;\n",
       "    }\n",
       "</style>\n",
       "<table border=\"1\" class=\"dataframe\">\n",
       "  <thead>\n",
       "    <tr style=\"text-align: right;\">\n",
       "      <th></th>\n",
       "      <th>Actual</th>\n",
       "      <th>Predicted</th>\n",
       "    </tr>\n",
       "  </thead>\n",
       "  <tbody>\n",
       "    <tr>\n",
       "      <th>2016-12-15</th>\n",
       "      <td>115.379997</td>\n",
       "      <td>108.972979</td>\n",
       "    </tr>\n",
       "    <tr>\n",
       "      <th>2016-12-16</th>\n",
       "      <td>116.470001</td>\n",
       "      <td>109.194849</td>\n",
       "    </tr>\n",
       "    <tr>\n",
       "      <th>2016-12-19</th>\n",
       "      <td>115.800003</td>\n",
       "      <td>113.078968</td>\n",
       "    </tr>\n",
       "    <tr>\n",
       "      <th>2016-12-20</th>\n",
       "      <td>116.739998</td>\n",
       "      <td>113.300838</td>\n",
       "    </tr>\n",
       "    <tr>\n",
       "      <th>2016-12-21</th>\n",
       "      <td>116.800003</td>\n",
       "      <td>113.522708</td>\n",
       "    </tr>\n",
       "    <tr>\n",
       "      <th>2016-12-22</th>\n",
       "      <td>116.349998</td>\n",
       "      <td>113.744578</td>\n",
       "    </tr>\n",
       "    <tr>\n",
       "      <th>2016-12-23</th>\n",
       "      <td>115.589996</td>\n",
       "      <td>113.966447</td>\n",
       "    </tr>\n",
       "    <tr>\n",
       "      <th>2016-12-27</th>\n",
       "      <td>116.519997</td>\n",
       "      <td>117.536018</td>\n",
       "    </tr>\n",
       "    <tr>\n",
       "      <th>2016-12-28</th>\n",
       "      <td>117.519997</td>\n",
       "      <td>117.757888</td>\n",
       "    </tr>\n",
       "    <tr>\n",
       "      <th>2016-12-29</th>\n",
       "      <td>116.449997</td>\n",
       "      <td>117.979758</td>\n",
       "    </tr>\n",
       "  </tbody>\n",
       "</table>\n",
       "</div>"
      ],
      "text/plain": [
       "                Actual   Predicted\n",
       "2016-12-15  115.379997  108.972979\n",
       "2016-12-16  116.470001  109.194849\n",
       "2016-12-19  115.800003  113.078968\n",
       "2016-12-20  116.739998  113.300838\n",
       "2016-12-21  116.800003  113.522708\n",
       "2016-12-22  116.349998  113.744578\n",
       "2016-12-23  115.589996  113.966447\n",
       "2016-12-27  116.519997  117.536018\n",
       "2016-12-28  117.519997  117.757888\n",
       "2016-12-29  116.449997  117.979758"
      ]
     },
     "execution_count": 13,
     "metadata": {},
     "output_type": "execute_result"
    }
   ],
   "source": [
    "df_sgd[:10]"
   ]
  },
  {
   "cell_type": "markdown",
   "metadata": {},
   "source": [
    "## Decision Tree"
   ]
  },
  {
   "cell_type": "code",
   "execution_count": 14,
   "metadata": {},
   "outputs": [
    {
     "name": "stdout",
     "output_type": "stream",
     "text": [
      "% Change : -0.5221749600126558\n"
     ]
    },
    {
     "data": {
      "image/png": "[encoded data removed]",
      "text/plain": [
       "<matplotlib.figure.Figure at 0x7fb6425b7c88>"
      ]
     },
     "metadata": {},
     "output_type": "display_data"
    }
   ],
   "source": [
    "from sklearn.tree import DecisionTreeRegressor\n",
    "model_dt = DecisionTreeRegressor(max_depth=2)\n",
    "model_dt.fit(X_train,y_train)\n",
    "df_dt = pd.DataFrame(index=df_test.index)\n",
    "df_dt['Actual'] = y_test\n",
    "df_dt['Predicted'] = model_dt.predict(X_test)\n",
    "print(\"% Change : \"+str(calculateError(df_dt['Predicted'],df_dt['Actual'])))\n",
    "plotDataframe(df_dt,\"Decision Tree Regressor\")"
   ]
  },
  {
   "cell_type": "code",
   "execution_count": 15,
   "metadata": {},
   "outputs": [
    {
     "data": {
      "text/html": [
       "<div>\n",
       "<style scoped>\n",
       "    .dataframe tbody tr th:only-of-type {\n",
       "        vertical-align: middle;\n",
       "    }\n",
       "\n",
       "    .dataframe tbody tr th {\n",
       "        vertical-align: top;\n",
       "    }\n",
       "\n",
       "    .dataframe thead th {\n",
       "        text-align: right;\n",
       "    }\n",
       "</style>\n",
       "<table border=\"1\" class=\"dataframe\">\n",
       "  <thead>\n",
       "    <tr style=\"text-align: right;\">\n",
       "      <th></th>\n",
       "      <th>Actual</th>\n",
       "      <th>Predicted</th>\n",
       "    </tr>\n",
       "  </thead>\n",
       "  <tbody>\n",
       "    <tr>\n",
       "      <th>2016-12-15</th>\n",
       "      <td>115.379997</td>\n",
       "      <td>113.699998</td>\n",
       "    </tr>\n",
       "    <tr>\n",
       "      <th>2016-12-16</th>\n",
       "      <td>116.470001</td>\n",
       "      <td>113.699998</td>\n",
       "    </tr>\n",
       "    <tr>\n",
       "      <th>2016-12-19</th>\n",
       "      <td>115.800003</td>\n",
       "      <td>113.699998</td>\n",
       "    </tr>\n",
       "    <tr>\n",
       "      <th>2016-12-20</th>\n",
       "      <td>116.739998</td>\n",
       "      <td>116.561333</td>\n",
       "    </tr>\n",
       "    <tr>\n",
       "      <th>2016-12-21</th>\n",
       "      <td>116.800003</td>\n",
       "      <td>116.561333</td>\n",
       "    </tr>\n",
       "    <tr>\n",
       "      <th>2016-12-22</th>\n",
       "      <td>116.349998</td>\n",
       "      <td>116.561333</td>\n",
       "    </tr>\n",
       "    <tr>\n",
       "      <th>2016-12-23</th>\n",
       "      <td>115.589996</td>\n",
       "      <td>116.561333</td>\n",
       "    </tr>\n",
       "    <tr>\n",
       "      <th>2016-12-27</th>\n",
       "      <td>116.519997</td>\n",
       "      <td>116.561333</td>\n",
       "    </tr>\n",
       "    <tr>\n",
       "      <th>2016-12-28</th>\n",
       "      <td>117.519997</td>\n",
       "      <td>116.561333</td>\n",
       "    </tr>\n",
       "    <tr>\n",
       "      <th>2016-12-29</th>\n",
       "      <td>116.449997</td>\n",
       "      <td>116.561333</td>\n",
       "    </tr>\n",
       "  </tbody>\n",
       "</table>\n",
       "</div>"
      ],
      "text/plain": [
       "                Actual   Predicted\n",
       "2016-12-15  115.379997  113.699998\n",
       "2016-12-16  116.470001  113.699998\n",
       "2016-12-19  115.800003  113.699998\n",
       "2016-12-20  116.739998  116.561333\n",
       "2016-12-21  116.800003  116.561333\n",
       "2016-12-22  116.349998  116.561333\n",
       "2016-12-23  115.589996  116.561333\n",
       "2016-12-27  116.519997  116.561333\n",
       "2016-12-28  117.519997  116.561333\n",
       "2016-12-29  116.449997  116.561333"
      ]
     },
     "execution_count": 15,
     "metadata": {},
     "output_type": "execute_result"
    }
   ],
   "source": [
    "df_dt[:10]"
   ]
  },
  {
   "cell_type": "markdown",
   "metadata": {},
   "source": [
    "### Random Forest Regressor"
   ]
  },
  {
   "cell_type": "code",
   "execution_count": 16,
   "metadata": {},
   "outputs": [
    {
     "name": "stdout",
     "output_type": "stream",
     "text": [
      "% Change : -0.5702904709178195\n"
     ]
    },
    {
     "data": {
      "image/png": "[encoded data removed]",
      "text/plain": [
       "<matplotlib.figure.Figure at 0x7fb64184e908>"
      ]
     },
     "metadata": {},
     "output_type": "display_data"
    }
   ],
   "source": [
    "from sklearn.ensemble import RandomForestRegressor\n",
    "model_rf = RandomForestRegressor(n_estimators=100,random_state=45)\n",
    "model_rf.fit(X_train,y_train)\n",
    "df_rf = pd.DataFrame(index=df_test.index)\n",
    "df_rf['Actual'] = y_test\n",
    "df_rf['Predicted'] = model_rf.predict(X_test)\n",
    "print(\"% Change : \"+str(calculateError(df_rf['Predicted'],df_rf['Actual'])))\n",
    "plotDataframe(df_rf,\"Random Forest Regressor\")"
   ]
  },
  {
   "cell_type": "code",
   "execution_count": 17,
   "metadata": {},
   "outputs": [
    {
     "data": {
      "text/html": [
       "<div>\n",
       "<style scoped>\n",
       "    .dataframe tbody tr th:only-of-type {\n",
       "        vertical-align: middle;\n",
       "    }\n",
       "\n",
       "    .dataframe tbody tr th {\n",
       "        vertical-align: top;\n",
       "    }\n",
       "\n",
       "    .dataframe thead th {\n",
       "        text-align: right;\n",
       "    }\n",
       "</style>\n",
       "<table border=\"1\" class=\"dataframe\">\n",
       "  <thead>\n",
       "    <tr style=\"text-align: right;\">\n",
       "      <th></th>\n",
       "      <th>Actual</th>\n",
       "      <th>Predicted</th>\n",
       "    </tr>\n",
       "  </thead>\n",
       "  <tbody>\n",
       "    <tr>\n",
       "      <th>2016-12-15</th>\n",
       "      <td>115.379997</td>\n",
       "      <td>113.607699</td>\n",
       "    </tr>\n",
       "    <tr>\n",
       "      <th>2016-12-16</th>\n",
       "      <td>116.470001</td>\n",
       "      <td>113.607699</td>\n",
       "    </tr>\n",
       "    <tr>\n",
       "      <th>2016-12-19</th>\n",
       "      <td>115.800003</td>\n",
       "      <td>115.449897</td>\n",
       "    </tr>\n",
       "    <tr>\n",
       "      <th>2016-12-20</th>\n",
       "      <td>116.739998</td>\n",
       "      <td>117.177897</td>\n",
       "    </tr>\n",
       "    <tr>\n",
       "      <th>2016-12-21</th>\n",
       "      <td>116.800003</td>\n",
       "      <td>117.056300</td>\n",
       "    </tr>\n",
       "    <tr>\n",
       "      <th>2016-12-22</th>\n",
       "      <td>116.349998</td>\n",
       "      <td>117.580598</td>\n",
       "    </tr>\n",
       "    <tr>\n",
       "      <th>2016-12-23</th>\n",
       "      <td>115.589996</td>\n",
       "      <td>117.614199</td>\n",
       "    </tr>\n",
       "    <tr>\n",
       "      <th>2016-12-27</th>\n",
       "      <td>116.519997</td>\n",
       "      <td>117.068697</td>\n",
       "    </tr>\n",
       "    <tr>\n",
       "      <th>2016-12-28</th>\n",
       "      <td>117.519997</td>\n",
       "      <td>115.189399</td>\n",
       "    </tr>\n",
       "    <tr>\n",
       "      <th>2016-12-29</th>\n",
       "      <td>116.449997</td>\n",
       "      <td>114.403401</td>\n",
       "    </tr>\n",
       "  </tbody>\n",
       "</table>\n",
       "</div>"
      ],
      "text/plain": [
       "                Actual   Predicted\n",
       "2016-12-15  115.379997  113.607699\n",
       "2016-12-16  116.470001  113.607699\n",
       "2016-12-19  115.800003  115.449897\n",
       "2016-12-20  116.739998  117.177897\n",
       "2016-12-21  116.800003  117.056300\n",
       "2016-12-22  116.349998  117.580598\n",
       "2016-12-23  115.589996  117.614199\n",
       "2016-12-27  116.519997  117.068697\n",
       "2016-12-28  117.519997  115.189399\n",
       "2016-12-29  116.449997  114.403401"
      ]
     },
     "execution_count": 17,
     "metadata": {},
     "output_type": "execute_result"
    }
   ],
   "source": [
    "df_rf[:10]"
   ]
  },
  {
   "cell_type": "markdown",
   "metadata": {},
   "source": [
    "### KNN Regressor"
   ]
  },
  {
   "cell_type": "code",
   "execution_count": 18,
   "metadata": {},
   "outputs": [],
   "source": [
    "from sklearn.neighbors import KNeighborsRegressor"
   ]
  },
  {
   "cell_type": "code",
   "execution_count": 19,
   "metadata": {},
   "outputs": [
    {
     "name": "stdout",
     "output_type": "stream",
     "text": [
      "% Change : -1.5977740660076187\n"
     ]
    },
    {
     "data": {
      "image/png": "[encoded data removed]",
      "text/plain": [
       "<matplotlib.figure.Figure at 0x7fb6415b39e8>"
      ]
     },
     "metadata": {},
     "output_type": "display_data"
    }
   ],
   "source": [
    "model = KNeighborsRegressor(n_neighbors=10)\n",
    "model.fit(X_train,y_train)\n",
    "df_knn = pd.DataFrame(index=df_test.index)\n",
    "df_knn['Actual'] = y_test\n",
    "df_knn['Predicted'] = model.predict(X_test)\n",
    "print(\"% Change : \"+str(calculateError(df_knn['Predicted'],df_knn['Actual'])))\n",
    "plotDataframe(df_knn,\"KNN Regresson\")"
   ]
  },
  {
   "cell_type": "code",
   "execution_count": 20,
   "metadata": {},
   "outputs": [
    {
     "data": {
      "text/html": [
       "<div>\n",
       "<style scoped>\n",
       "    .dataframe tbody tr th:only-of-type {\n",
       "        vertical-align: middle;\n",
       "    }\n",
       "\n",
       "    .dataframe tbody tr th {\n",
       "        vertical-align: top;\n",
       "    }\n",
       "\n",
       "    .dataframe thead th {\n",
       "        text-align: right;\n",
       "    }\n",
       "</style>\n",
       "<table border=\"1\" class=\"dataframe\">\n",
       "  <thead>\n",
       "    <tr style=\"text-align: right;\">\n",
       "      <th></th>\n",
       "      <th>Actual</th>\n",
       "      <th>Predicted</th>\n",
       "    </tr>\n",
       "  </thead>\n",
       "  <tbody>\n",
       "    <tr>\n",
       "      <th>2016-12-15</th>\n",
       "      <td>115.379997</td>\n",
       "      <td>113.607699</td>\n",
       "    </tr>\n",
       "    <tr>\n",
       "      <th>2016-12-16</th>\n",
       "      <td>116.470001</td>\n",
       "      <td>113.607699</td>\n",
       "    </tr>\n",
       "    <tr>\n",
       "      <th>2016-12-19</th>\n",
       "      <td>115.800003</td>\n",
       "      <td>115.449897</td>\n",
       "    </tr>\n",
       "    <tr>\n",
       "      <th>2016-12-20</th>\n",
       "      <td>116.739998</td>\n",
       "      <td>117.177897</td>\n",
       "    </tr>\n",
       "    <tr>\n",
       "      <th>2016-12-21</th>\n",
       "      <td>116.800003</td>\n",
       "      <td>117.056300</td>\n",
       "    </tr>\n",
       "    <tr>\n",
       "      <th>2016-12-22</th>\n",
       "      <td>116.349998</td>\n",
       "      <td>117.580598</td>\n",
       "    </tr>\n",
       "    <tr>\n",
       "      <th>2016-12-23</th>\n",
       "      <td>115.589996</td>\n",
       "      <td>117.614199</td>\n",
       "    </tr>\n",
       "    <tr>\n",
       "      <th>2016-12-27</th>\n",
       "      <td>116.519997</td>\n",
       "      <td>117.068697</td>\n",
       "    </tr>\n",
       "    <tr>\n",
       "      <th>2016-12-28</th>\n",
       "      <td>117.519997</td>\n",
       "      <td>115.189399</td>\n",
       "    </tr>\n",
       "    <tr>\n",
       "      <th>2016-12-29</th>\n",
       "      <td>116.449997</td>\n",
       "      <td>114.403401</td>\n",
       "    </tr>\n",
       "  </tbody>\n",
       "</table>\n",
       "</div>"
      ],
      "text/plain": [
       "                Actual   Predicted\n",
       "2016-12-15  115.379997  113.607699\n",
       "2016-12-16  116.470001  113.607699\n",
       "2016-12-19  115.800003  115.449897\n",
       "2016-12-20  116.739998  117.177897\n",
       "2016-12-21  116.800003  117.056300\n",
       "2016-12-22  116.349998  117.580598\n",
       "2016-12-23  115.589996  117.614199\n",
       "2016-12-27  116.519997  117.068697\n",
       "2016-12-28  117.519997  115.189399\n",
       "2016-12-29  116.449997  114.403401"
      ]
     },
     "execution_count": 20,
     "metadata": {},
     "output_type": "execute_result"
    }
   ],
   "source": [
    "df_rf[:10]"
   ]
  },
  {
   "cell_type": "code",
   "execution_count": 21,
   "metadata": {},
   "outputs": [],
   "source": [
    "def analysis():\n",
    "    df_compare = pd.DataFrame(index=df_test.index)\n",
    "    df_compare['actual'] = y_test\n",
    "    df_compare['Linear Reg'] = df_lr['Predicted']\n",
    "    df_compare['SGD'] = df_sgd['Predicted']\n",
    "    df_compare['Decision Tree'] = df_dt['Predicted']\n",
    "    df_compare['Random Forest'] = df_rf['Predicted']\n",
    "    df_compare['KNN'] = df_knn['Predicted']\n",
    "    return df_compare"
   ]
  },
  {
   "cell_type": "code",
   "execution_count": 22,
   "metadata": {},
   "outputs": [
    {
     "data": {
      "image/png": "[encoded data removed]",
      "text/plain": [
       "<matplotlib.figure.Figure at 0x7fb6415a3e10>"
      ]
     },
     "metadata": {},
     "output_type": "display_data"
    }
   ],
   "source": [
    "plotDataframe(analysis(),\"Comparative Analysis\")"
   ]
  },
  {
   "cell_type": "code",
   "execution_count": 23,
   "metadata": {},
   "outputs": [],
   "source": [
    "df_compare = analysis()\n",
    "df_compare.to_csv(\"Comparative_Analysis.csv\",sep=\",\")"
   ]
  },
  {
   "cell_type": "code",
   "execution_count": null,
   "metadata": {},
   "outputs": [],
   "source": []
  }
 ],
 "metadata": {
  "kernelspec": {
   "display_name": "Python 3",
   "language": "python",
   "name": "python3"
  },
  "language_info": {
   "codemirror_mode": {
    "name": "ipython",
    "version": 3
   },
   "file_extension": ".py",
   "mimetype": "text/x-python",
   "name": "python",
   "nbconvert_exporter": "python",
   "pygments_lexer": "ipython3",
   "version": "3.5.2"
  }
 },
 "nbformat": 4,
 "nbformat_minor": 2
}
