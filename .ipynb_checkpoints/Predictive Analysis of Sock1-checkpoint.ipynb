{
 "cells": [
  {
   "cell_type": "markdown",
   "metadata": {},
   "source": [
    "## Predictive Analysis of Market Trends to Predict Stock Price   "
   ]
  },
  {
   "cell_type": "markdown",
   "metadata": {},
   "source": [
    "## Pre Processing Of Data"
   ]
  },
  {
   "cell_type": "code",
   "execution_count": 1,
   "metadata": {},
   "outputs": [],
   "source": [
    "%matplotlib inline\n",
    "import pandas as pd\n",
    "import matplotlib.pyplot as plt\n",
    "import numpy as np\n",
    "from sklearn.preprocessing import Normalizer"
   ]
  },
  {
   "cell_type": "code",
   "execution_count": 2,
   "metadata": {},
   "outputs": [],
   "source": [
    "def splitDate(df):\n",
    "    X_date = []\n",
    "    for d in df.index:\n",
    "        d = str(d).split(' ')[0]\n",
    "        x = []\n",
    "        x.append(int(d.split('-')[0]))\n",
    "        x.append(int(d.split('-')[1]))\n",
    "        x.append(int(d.split('-')[2]))\n",
    "        X_date.append(x)\n",
    "    \n",
    "    X_date = np.array(X_date,dtype=np.int64) \n",
    "    return [X_date[:,:1],X_date[:,1:2],X_date[:,2:3]]"
   ]
  },
  {
   "cell_type": "code",
   "execution_count": 20,
   "metadata": {},
   "outputs": [],
   "source": [
    "#Function to read data from csv file and create a dataframe\n",
    "def getDataSplitInTrainTest(fname,ftrends):\n",
    "    #Read into dataframe\n",
    "    df = pd.read_csv(fname,index_col='Date',\n",
    "                     usecols=['Date','Open'],\n",
    "                     parse_dates=True,na_values=['nan'])\n",
    "    \n",
    "       \n",
    "    \n",
    "    df['Date'] = pd.to_datetime(df.index).astype(np.int64)\n",
    "    df['Year'],df['Month'],df['Day'] = splitDate(df)\n",
    "    \n",
    "    df_trends = pd.read_csv(ftrends,index_col='Date',parse_dates=True)\n",
    "        \n",
    "    #Stat and End Date for train and test data respectivly\n",
    "    #Train Data\n",
    "    train_start_date = '2007-01-03'\n",
    "    train_end_date = '2015-01-02'\n",
    "    train_dates = pd.date_range(train_start_date,train_end_date)\n",
    "    ts_train = pd.Series()\n",
    "    \n",
    "    #Test Data\n",
    "    test_start_date = '2015-01-05'    \n",
    "    test_end_date = '2016-12-30'\n",
    "    test_dates = pd.date_range(test_start_date,test_end_date)\n",
    "    \n",
    "    #Our dataframe wil have date as index and one column as open price\n",
    "    df_train = pd.DataFrame(index=train_dates) \n",
    "    df_test = pd.DataFrame(index=test_dates) \n",
    "\n",
    "    #Join\n",
    "    df_train = df_train.join(df)\n",
    "    df_test = df_test.join(df)\n",
    "    \n",
    "    #drop nan\n",
    "    df_train = df_train.dropna()\n",
    "    df_test = df_test.dropna()\n",
    "    \n",
    "    #For trends value\n",
    "    df_train1 = df_train.join(df_trends).dropna()\n",
    "    df_test1 = df_test.join(df_trends).dropna()\n",
    "    \n",
    "    #Return df_train and df_train as a tuple\n",
    "    return (df_train1,df_test1)\n",
    "    \n",
    "#Calling function to get processed data\n",
    "df_train,df_test = getDataSplitInTrainTest('AAPL.csv','TRENDS.csv')"
   ]
  },
  {
   "cell_type": "markdown",
   "metadata": {},
   "source": [
    "## Data Visualization"
   ]
  },
  {
   "cell_type": "markdown",
   "metadata": {},
   "source": [
    "#### Train Data"
   ]
  },
  {
   "cell_type": "code",
   "execution_count": 21,
   "metadata": {},
   "outputs": [
    {
     "data": {
      "text/html": [
       "<div>\n",
       "<style>\n",
       "    .dataframe thead tr:only-child th {\n",
       "        text-align: right;\n",
       "    }\n",
       "\n",
       "    .dataframe thead th {\n",
       "        text-align: left;\n",
       "    }\n",
       "\n",
       "    .dataframe tbody tr th {\n",
       "        vertical-align: top;\n",
       "    }\n",
       "</style>\n",
       "<table border=\"1\" class=\"dataframe\">\n",
       "  <thead>\n",
       "    <tr style=\"text-align: right;\">\n",
       "      <th></th>\n",
       "      <th>Open</th>\n",
       "      <th>Date</th>\n",
       "      <th>Year</th>\n",
       "      <th>Month</th>\n",
       "      <th>Day</th>\n",
       "      <th>Trend</th>\n",
       "    </tr>\n",
       "  </thead>\n",
       "  <tbody>\n",
       "    <tr>\n",
       "      <th>2007-01-03</th>\n",
       "      <td>12.327143</td>\n",
       "      <td>1.167782e+18</td>\n",
       "      <td>2007.0</td>\n",
       "      <td>1.0</td>\n",
       "      <td>3.0</td>\n",
       "      <td>100.0</td>\n",
       "    </tr>\n",
       "    <tr>\n",
       "      <th>2007-01-04</th>\n",
       "      <td>12.007143</td>\n",
       "      <td>1.167869e+18</td>\n",
       "      <td>2007.0</td>\n",
       "      <td>1.0</td>\n",
       "      <td>4.0</td>\n",
       "      <td>100.0</td>\n",
       "    </tr>\n",
       "    <tr>\n",
       "      <th>2007-01-05</th>\n",
       "      <td>12.252857</td>\n",
       "      <td>1.167955e+18</td>\n",
       "      <td>2007.0</td>\n",
       "      <td>1.0</td>\n",
       "      <td>5.0</td>\n",
       "      <td>100.0</td>\n",
       "    </tr>\n",
       "    <tr>\n",
       "      <th>2007-01-08</th>\n",
       "      <td>12.280000</td>\n",
       "      <td>1.168214e+18</td>\n",
       "      <td>2007.0</td>\n",
       "      <td>1.0</td>\n",
       "      <td>8.0</td>\n",
       "      <td>100.0</td>\n",
       "    </tr>\n",
       "    <tr>\n",
       "      <th>2007-01-09</th>\n",
       "      <td>12.350000</td>\n",
       "      <td>1.168301e+18</td>\n",
       "      <td>2007.0</td>\n",
       "      <td>1.0</td>\n",
       "      <td>9.0</td>\n",
       "      <td>100.0</td>\n",
       "    </tr>\n",
       "  </tbody>\n",
       "</table>\n",
       "</div>"
      ],
      "text/plain": [
       "                 Open          Date    Year  Month  Day  Trend\n",
       "2007-01-03  12.327143  1.167782e+18  2007.0    1.0  3.0  100.0\n",
       "2007-01-04  12.007143  1.167869e+18  2007.0    1.0  4.0  100.0\n",
       "2007-01-05  12.252857  1.167955e+18  2007.0    1.0  5.0  100.0\n",
       "2007-01-08  12.280000  1.168214e+18  2007.0    1.0  8.0  100.0\n",
       "2007-01-09  12.350000  1.168301e+18  2007.0    1.0  9.0  100.0"
      ]
     },
     "execution_count": 21,
     "metadata": {},
     "output_type": "execute_result"
    }
   ],
   "source": [
    "#First Five samples\n",
    "df_train.head()"
   ]
  },
  {
   "cell_type": "markdown",
   "metadata": {},
   "source": [
    "### Test Data"
   ]
  },
  {
   "cell_type": "code",
   "execution_count": 22,
   "metadata": {},
   "outputs": [
    {
     "data": {
      "text/html": [
       "<div>\n",
       "<style>\n",
       "    .dataframe thead tr:only-child th {\n",
       "        text-align: right;\n",
       "    }\n",
       "\n",
       "    .dataframe thead th {\n",
       "        text-align: left;\n",
       "    }\n",
       "\n",
       "    .dataframe tbody tr th {\n",
       "        vertical-align: top;\n",
       "    }\n",
       "</style>\n",
       "<table border=\"1\" class=\"dataframe\">\n",
       "  <thead>\n",
       "    <tr style=\"text-align: right;\">\n",
       "      <th></th>\n",
       "      <th>Open</th>\n",
       "      <th>Date</th>\n",
       "      <th>Year</th>\n",
       "      <th>Month</th>\n",
       "      <th>Day</th>\n",
       "      <th>Trend</th>\n",
       "    </tr>\n",
       "  </thead>\n",
       "  <tbody>\n",
       "    <tr>\n",
       "      <th>2015-01-05</th>\n",
       "      <td>108.290001</td>\n",
       "      <td>1.420416e+18</td>\n",
       "      <td>2015.0</td>\n",
       "      <td>1.0</td>\n",
       "      <td>5.0</td>\n",
       "      <td>52.0</td>\n",
       "    </tr>\n",
       "    <tr>\n",
       "      <th>2015-01-06</th>\n",
       "      <td>106.540001</td>\n",
       "      <td>1.420502e+18</td>\n",
       "      <td>2015.0</td>\n",
       "      <td>1.0</td>\n",
       "      <td>6.0</td>\n",
       "      <td>52.0</td>\n",
       "    </tr>\n",
       "    <tr>\n",
       "      <th>2015-01-07</th>\n",
       "      <td>107.199997</td>\n",
       "      <td>1.420589e+18</td>\n",
       "      <td>2015.0</td>\n",
       "      <td>1.0</td>\n",
       "      <td>7.0</td>\n",
       "      <td>52.0</td>\n",
       "    </tr>\n",
       "    <tr>\n",
       "      <th>2015-01-08</th>\n",
       "      <td>109.230003</td>\n",
       "      <td>1.420675e+18</td>\n",
       "      <td>2015.0</td>\n",
       "      <td>1.0</td>\n",
       "      <td>8.0</td>\n",
       "      <td>52.0</td>\n",
       "    </tr>\n",
       "    <tr>\n",
       "      <th>2015-01-09</th>\n",
       "      <td>112.669998</td>\n",
       "      <td>1.420762e+18</td>\n",
       "      <td>2015.0</td>\n",
       "      <td>1.0</td>\n",
       "      <td>9.0</td>\n",
       "      <td>52.0</td>\n",
       "    </tr>\n",
       "  </tbody>\n",
       "</table>\n",
       "</div>"
      ],
      "text/plain": [
       "                  Open          Date    Year  Month  Day  Trend\n",
       "2015-01-05  108.290001  1.420416e+18  2015.0    1.0  5.0   52.0\n",
       "2015-01-06  106.540001  1.420502e+18  2015.0    1.0  6.0   52.0\n",
       "2015-01-07  107.199997  1.420589e+18  2015.0    1.0  7.0   52.0\n",
       "2015-01-08  109.230003  1.420675e+18  2015.0    1.0  8.0   52.0\n",
       "2015-01-09  112.669998  1.420762e+18  2015.0    1.0  9.0   52.0"
      ]
     },
     "execution_count": 22,
     "metadata": {},
     "output_type": "execute_result"
    }
   ],
   "source": [
    "#First Five samples\n",
    "df_test.head()"
   ]
  },
  {
   "cell_type": "markdown",
   "metadata": {},
   "source": [
    "### Plotting Graph"
   ]
  },
  {
   "cell_type": "code",
   "execution_count": 23,
   "metadata": {},
   "outputs": [],
   "source": [
    "def plotDataframe(df,title):\n",
    "    ax = df.plot(title=title,fontsize=10)\n",
    "    ax.set_xlabel(\"Data\")\n",
    "    ax.set_ylabel(\"Price\")\n",
    "    plt.show()   "
   ]
  },
  {
   "cell_type": "code",
   "execution_count": 24,
   "metadata": {},
   "outputs": [
    {
     "data": {
      "image/png": "[encoded data removed]",
      "text/plain": [
       "<matplotlib.figure.Figure at 0x7f3f88dcbef0>"
      ]
     },
     "metadata": {},
     "output_type": "display_data"
    }
   ],
   "source": [
    "#Plot\n",
    "plotDataframe(df_train,\"Training Data\")"
   ]
  },
  {
   "cell_type": "markdown",
   "metadata": {},
   "source": [
    "## Splitting dataframe into features and target (X,y)"
   ]
  },
  {
   "cell_type": "code",
   "execution_count": 25,
   "metadata": {},
   "outputs": [],
   "source": [
    "#Train\n",
    "#X_train = np.asarray([pd.to_datetime(df_train.index).astype(np.int64),df_train['Trend']])\n",
    "X_train = df_train[['Year','Month','Day']]\n",
    "y_train = df_train['Open']\n",
    "\n",
    "#test\n",
    "#X_test = np.array([pd.to_datetime(df_test.index).astype(np.int64),df_test['Trend']])\n",
    "X_test = df_test[['Year','Month','Day']]\n",
    "y_test = df_test['Open']"
   ]
  },
  {
   "cell_type": "code",
   "execution_count": 26,
   "metadata": {},
   "outputs": [
    {
     "data": {
      "image/png": "[encoded data removed]",
      "text/plain": [
       "<matplotlib.figure.Figure at 0x7f3f88d057f0>"
      ]
     },
     "metadata": {},
     "output_type": "display_data"
    }
   ],
   "source": [
    "y_train.plot()\n",
    "y_test.plot()\n",
    "plt.show()"
   ]
  },
  {
   "cell_type": "markdown",
   "metadata": {},
   "source": [
    "# ML Algorithm"
   ]
  },
  {
   "cell_type": "markdown",
   "metadata": {},
   "source": [
    "# TODO"
   ]
  },
  {
   "cell_type": "code",
   "execution_count": 16,
   "metadata": {},
   "outputs": [
    {
     "ename": "NameError",
     "evalue": "name 'df' is not defined",
     "output_type": "error",
     "traceback": [
      "\u001b[0;31m---------------------------------------------------------------------------\u001b[0m",
      "\u001b[0;31mNameError\u001b[0m                                 Traceback (most recent call last)",
      "\u001b[0;32m<ipython-input-16-d7c24628c0ed>\u001b[0m in \u001b[0;36m<module>\u001b[0;34m()\u001b[0m\n\u001b[1;32m     11\u001b[0m \u001b[0;31m#svr_lin.score(X_train,y_train)\u001b[0m\u001b[0;34m\u001b[0m\u001b[0;34m\u001b[0m\u001b[0m\n\u001b[1;32m     12\u001b[0m \u001b[0;31m#svr_poly.score(X_test,y_test)\u001b[0m\u001b[0;34m\u001b[0m\u001b[0;34m\u001b[0m\u001b[0m\n\u001b[0;32m---> 13\u001b[0;31m \u001b[0mdf\u001b[0m\u001b[0;34m.\u001b[0m\u001b[0mplot\u001b[0m\u001b[0;34m(\u001b[0m\u001b[0;34m)\u001b[0m\u001b[0;34m\u001b[0m\u001b[0m\n\u001b[0m\u001b[1;32m     14\u001b[0m \u001b[0mplt\u001b[0m\u001b[0;34m.\u001b[0m\u001b[0mshow\u001b[0m\u001b[0;34m(\u001b[0m\u001b[0;34m)\u001b[0m\u001b[0;34m\u001b[0m\u001b[0m\n\u001b[1;32m     15\u001b[0m \u001b[0mmodel\u001b[0m\u001b[0;34m.\u001b[0m\u001b[0mfit\u001b[0m\u001b[0;34m(\u001b[0m\u001b[0mX_train\u001b[0m\u001b[0;34m,\u001b[0m\u001b[0my_train\u001b[0m\u001b[0;34m)\u001b[0m\u001b[0;34m\u001b[0m\u001b[0m\n",
      "\u001b[0;31mNameError\u001b[0m: name 'df' is not defined"
     ]
    }
   ],
   "source": [
    "from sklearn.linear_model import LinearRegression\n",
    "from sklearn.ensemble import RandomForestRegressor\n",
    "from sklearn.svm import SVR\n",
    "#model = LinearRegression()\n",
    "model = LinearRegression()\n",
    "svr_lin = SVR(kernel= 'linear', C= 1e3)\n",
    "svr_poly = SVR(kernel= 'poly', C= 1e3, degree= 2,verbose=True)\n",
    "svr_rbf = SVR(kernel= 'rbf', C= 1e3, gamma= 0.1) \n",
    "\n",
    "#svr_poly.fit(X_train,y_train)\n",
    "#svr_lin.score(X_train,y_train)\n",
    "#svr_poly.score(X_test,y_test)\n",
    "model.fit(X_train,y_train)\n",
    "model.score(X_train,y_train)"
   ]
  },
  {
   "cell_type": "code",
   "execution_count": null,
   "metadata": {},
   "outputs": [],
   "source": []
  },
  {
   "cell_type": "code",
   "execution_count": null,
   "metadata": {},
   "outputs": [],
   "source": []
  }
 ],
 "metadata": {
  "kernelspec": {
   "display_name": "Python 3",
   "language": "python",
   "name": "python3"
  },
  "language_info": {
   "codemirror_mode": {
    "name": "ipython",
    "version": 3
   },
   "file_extension": ".py",
   "mimetype": "text/x-python",
   "name": "python",
   "nbconvert_exporter": "python",
   "pygments_lexer": "ipython3",
   "version": "3.5.3"
  }
 },
 "nbformat": 4,
 "nbformat_minor": 2
}
